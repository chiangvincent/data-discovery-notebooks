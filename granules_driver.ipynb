{
 "cells": [
  {
   "cell_type": "code",
   "execution_count": 33,
   "metadata": {},
   "outputs": [],
   "source": [
    "import requests\n",
    "import urllib\n",
    "import ftplib\n",
    "\n",
    "from datetime import datetime, date"
   ]
  },
  {
   "cell_type": "code",
   "execution_count": 2,
   "metadata": {},
   "outputs": [],
   "source": [
    "# Reference docs for the format and organization of ADP VIIRS data \n",
    "# https://www.star.nesdis.noaa.gov/smcd/spb/aq/AerosolWatch/docs/EPS_ADP_Users_Guide_V1_Sep2020.pdf\n",
    "\n",
    "# Bounding box values for CA\n",
    "# https://anthonylouisdagostino.com/bounding-boxes-for-all-us-states/\n",
    "# original bounding box (lat, lon)\n",
    "UPPER_RIGHT = (43, -114)\n",
    "LOWER_LEFT = (32, -125)\n",
    "\n",
    "# Need to extend the bounding box region, since the swath width of VIIRS granule is 3060 km.\n",
    "LAT_OFFSET = 10\n",
    "LON_OFFSET = 20\n",
    "\n",
    "MAXLAT = UPPER_RIGHT[0] + LAT_OFFSET\n",
    "MAXLON = UPPER_RIGHT[1] + LON_OFFSET\n",
    "MINLAT = LOWER_LEFT[0] - LAT_OFFSET\n",
    "MINLON = LOWER_LEFT[1] - LON_OFFSET\n",
    "\n",
    "# API URL for OrbNav API\n",
    "ORBNAV_API_URL = \"https://sips.ssec.wisc.edu/orbnav/api/v1/boxtimes.json?\"\n",
    "\n",
    "# Satellite IDs used in the OrbNav API\n",
    "SATELLITE_ID_MAP = {\n",
    "    \"NOAA_20\": 43013,\n",
    "    \"SNPP\": 37849\n",
    "}\n",
    "\n",
    "# FTP hostname \n",
    "FTP_HOSTNAME = \"ftp.star.nesdis.noaa.gov\"\n",
    "\n",
    "# Filepath on the FTP server for the two VIIRS satellites\n",
    "SATELLITE_FTP_PATH_MAP = {\n",
    "    \"NOAA_20\": \"/pub/smcd/hzhang/VIIRS_EPS_NRT/ADP_N20/CONUS/\",\n",
    "    \"SNPP\": \"/pub/smcd/hzhang/VIIRS_EPS_NRT/ADP/CONUS/\"\n",
    "}\n",
    "\n",
    "# Paste in browser to view files (sample) \n",
    "FTP_TEST = 'ftp.star.nesdis.noaa.gov/pub/smcd/hzhang/VIIRS_EPS_NRT/ADP_N20/CONUS/'"
   ]
  },
  {
   "cell_type": "code",
   "execution_count": 37,
   "metadata": {},
   "outputs": [],
   "source": [
    "def _fetch_overpass_times(satellite: str, date: datetime = datetime.utcnow()):\n",
    "    # Returns a list of (start, end) datetime objects for a satellite using the OrbNav API\n",
    "    satellite_id = SATELLITE_ID_MAP[satellite]\n",
    "    ur = str(MAXLAT) + \", \" + str(MAXLON)\n",
    "    ll = str(MINLAT) + \", \" + str(MINLON)\n",
    "    args = {\n",
    "        \"sat\": satellite_id,\n",
    "        \"start\": get_utc_start(date),\n",
    "        \"end\": get_utc_end(date),\n",
    "        \"ll\": ll,\n",
    "        \"ur\": ur\n",
    "    }\n",
    "    request_url = ORBNAV_API_URL + urllib.parse.urlencode(args)\n",
    "    resp = requests.get(request_url)\n",
    "    if resp.status_code != 200:\n",
    "        return\n",
    "    return _process_resp(resp.json())\n",
    "\n",
    "def _get_utc_start(curr_date: datetime):\n",
    "    # return midnight timestamp of  date\n",
    "    midnight = curr_date.replace(hour=0, minute=0, second=0, microsecond=0)\n",
    "    return midnight.strftime(\"%Y-%m-%dT%H:%M:%SZ\")\n",
    "\n",
    "def _get_utc_end(curr_date: datetime):\n",
    "    # return latest timestamp of  date\n",
    "    midnight = curr_date.replace(hour=23, minute=59, second=59, microsecond=0)\n",
    "    return midnight.strftime(\"%Y-%m-%dT%H:%M:%SZ\")\n",
    "\n",
    "def _process_resp(overpass_times_json):\n",
    "    # processes the request and creates a list of (start, end) datetime objects that correspond to when the satellite\n",
    "    # was in the bounding box\n",
    "    overpass_times = []\n",
    "    for data in overpass_times_json[\"data\"]:\n",
    "        start_timestamp = data[0][0]\n",
    "        end_timestamp = data[1][0]\n",
    "        start = datetime.strptime(start_timestamp, '%Y-%m-%dT%H:%M:%SZ')\n",
    "        end = datetime.strptime(end_timestamp, '%Y-%m-%dT%H:%M:%SZ')\n",
    "        overpass_times.append([start, end])\n",
    "    return overpass_times\n",
    "\n",
    "def _is_valid_granule(filename, overpass_times):\n",
    "    observation_timestamp = get_observation_timestamp(filename)\n",
    "    for overpass in overpass_times:\n",
    "        start, end = overpass\n",
    "        if start <= observation_timestamp <= end: \n",
    "            return True\n",
    "    return False\n",
    "\n",
    "def _get_observation_timestamp(filename):\n",
    "    # Returns a datetime object corresponding to the file observation time\n",
    "    observation_timestamp = filename.split(\"_\")[3][1:]\n",
    "    observation_datetime = datetime.strptime(observation_timestamp, '%Y%m%d%H%M%S%f').replace(microsecond=0)\n",
    "    return observation_datetime\n",
    "\n",
    "# MAIN DRIVER FUNCTION\n",
    "def download_granules(satellite: str, download_dir = \"\", date: datetime = datetime.utcnow()):\n",
    "    # Downloads the granules from the FTP server for a given satellite for timestamps covering California in download_dir\n",
    "    ftp_path = SATELLITE_FTP_PATH_MAP[satellite]\n",
    "    ftp_path += date.strftime(\"%Y%m%d\")\n",
    "    \n",
    "    overpass_times = _fetch_overpass_times(satellite, date)\n",
    "    \n",
    "    with ftplib.FTP(FTP_HOSTNAME) as ftp:\n",
    "        try:\n",
    "            ftp.login()\n",
    "            ftp.cwd(ftp_path)\n",
    "            files = []\n",
    "            ftp.dir(files.append)\n",
    "            for file in files:\n",
    "                filename = file.split(\" \")[-1]\n",
    "                if (_is_valid_granule(filename, overpass_times)):\n",
    "                    with open(\"/\".join([download_dir, filename]), 'wb') as f:\n",
    "                        print(\"Downloading %s...\" % filename)\n",
    "                        ftp.retrbinary('RETR ' + filename, f.write)\n",
    "        except ftplib.all_errors as e:\n",
    "            print('FTP error:', e)"
   ]
  },
  {
   "cell_type": "code",
   "execution_count": 38,
   "metadata": {},
   "outputs": [],
   "source": [
    "dec1 = datetime(2020, 12, 1)"
   ]
  },
  {
   "cell_type": "code",
   "execution_count": 39,
   "metadata": {
    "scrolled": false
   },
   "outputs": [
    {
     "data": {
      "text/plain": [
       "[[datetime.datetime(2020, 12, 1, 8, 35, 20),\n",
       "  datetime.datetime(2020, 12, 1, 8, 44, 13)],\n",
       " [datetime.datetime(2020, 12, 1, 10, 16, 50),\n",
       "  datetime.datetime(2020, 12, 1, 10, 25, 43)],\n",
       " [datetime.datetime(2020, 12, 1, 19, 56, 30),\n",
       "  datetime.datetime(2020, 12, 1, 20, 5, 24)],\n",
       " [datetime.datetime(2020, 12, 1, 21, 38),\n",
       "  datetime.datetime(2020, 12, 1, 21, 46, 54)]]"
      ]
     },
     "execution_count": 39,
     "metadata": {},
     "output_type": "execute_result"
    }
   ],
   "source": [
    "fetch_overpass_times(\"NOAA_20\", dec1)"
   ]
  },
  {
   "cell_type": "code",
   "execution_count": 40,
   "metadata": {},
   "outputs": [
    {
     "name": "stdout",
     "output_type": "stream",
     "text": [
      "Downloading JRR-ADP_v2r3_j01_s202012011956429_e202012011958074_c202012012029580.nc...\n",
      "Downloading JRR-ADP_v2r3_j01_s202012011958086_e202012011959314_c202012012029490.nc...\n",
      "Downloading JRR-ADP_v2r3_j01_s202012011959326_e202012012000571_c202012012029400.nc...\n",
      "Downloading JRR-ADP_v2r3_j01_s202012012000584_e202012012002229_c202012012029370.nc...\n",
      "Downloading JRR-ADP_v2r3_j01_s202012012002241_e202012012003486_c202012012029460.nc...\n",
      "Downloading JRR-ADP_v2r3_j01_s202012012003499_e202012012005144_c202012012029450.nc...\n",
      "Downloading JRR-ADP_v2r3_j01_s202012012005156_e202012012006384_c202012012030200.nc...\n",
      "Downloading JRR-ADP_v2r3_j01_s202012012139087_e202012012140315_c202012012211320.nc...\n",
      "Downloading JRR-ADP_v2r3_j01_s202012012140327_e202012012141572_c202012012211120.nc...\n",
      "Downloading JRR-ADP_v2r3_j01_s202012012141585_e202012012143230_c202012012211130.nc...\n",
      "Downloading JRR-ADP_v2r3_j01_s202012012143242_e202012012144487_c202012012211340.nc...\n",
      "Downloading JRR-ADP_v2r3_j01_s202012012144500_e202012012146127_c202012012211200.nc...\n"
     ]
    }
   ],
   "source": [
    "download_granules(\"NOAA_20\", \"data\",  dec1)"
   ]
  },
  {
   "cell_type": "code",
   "execution_count": 31,
   "metadata": {},
   "outputs": [
    {
     "data": {
      "text/plain": [
       "[[datetime.datetime(2020, 12, 1, 9, 25, 54),\n",
       "  datetime.datetime(2020, 12, 1, 9, 34, 47)],\n",
       " [datetime.datetime(2020, 12, 1, 11, 7, 24),\n",
       "  datetime.datetime(2020, 12, 1, 11, 16, 17)],\n",
       " [datetime.datetime(2020, 12, 1, 19, 10, 52),\n",
       "  datetime.datetime(2020, 12, 1, 19, 14, 28)],\n",
       " [datetime.datetime(2020, 12, 1, 20, 47, 4),\n",
       "  datetime.datetime(2020, 12, 1, 20, 55, 58)],\n",
       " [datetime.datetime(2020, 12, 1, 22, 28, 34),\n",
       "  datetime.datetime(2020, 12, 1, 22, 34, 4)]]"
      ]
     },
     "execution_count": 31,
     "metadata": {},
     "output_type": "execute_result"
    }
   ],
   "source": [
    "fetch_overpass_times(\"SNPP\", dec1)"
   ]
  },
  {
   "cell_type": "code",
   "execution_count": 32,
   "metadata": {},
   "outputs": [
    {
     "name": "stdout",
     "output_type": "stream",
     "text": [
      "Downloading JRR-ADP_v2r3_npp_s202012011911116_e202012011912357_c202012011943300.nc...\n",
      "Downloading JRR-ADP_v2r3_npp_s202012011912370_e202012011914011_c202012011944000.nc...\n",
      "Downloading JRR-ADP_v2r3_npp_s202012011914024_e202012011915265_c202012011945160.nc...\n",
      "Downloading JRR-ADP_v2r3_npp_s202012012047555_e202012012049197_c202012012125480.nc...\n",
      "Downloading JRR-ADP_v2r3_npp_s202012012049209_e202012012050451_c202012012124560.nc...\n",
      "Downloading JRR-ADP_v2r3_npp_s202012012050463_e202012012052105_c202012012126010.nc...\n",
      "Downloading JRR-ADP_v2r3_npp_s202012012052118_e202012012053359_c202012012125030.nc...\n",
      "Downloading JRR-ADP_v2r3_npp_s202012012053372_e202012012055013_c202012012125400.nc...\n",
      "Downloading JRR-ADP_v2r3_npp_s202012012055026_e202012012056267_c202012012126140.nc...\n"
     ]
    }
   ],
   "source": [
    "download_granules(\"SNPP\", \"data\",  dec1)"
   ]
  },
  {
   "cell_type": "code",
   "execution_count": null,
   "metadata": {},
   "outputs": [],
   "source": []
  }
 ],
 "metadata": {
  "kernelspec": {
   "display_name": "Python 3",
   "language": "python",
   "name": "python3"
  },
  "language_info": {
   "codemirror_mode": {
    "name": "ipython",
    "version": 3
   },
   "file_extension": ".py",
   "mimetype": "text/x-python",
   "name": "python",
   "nbconvert_exporter": "python",
   "pygments_lexer": "ipython3",
   "version": "3.7.2"
  }
 },
 "nbformat": 4,
 "nbformat_minor": 2
}
